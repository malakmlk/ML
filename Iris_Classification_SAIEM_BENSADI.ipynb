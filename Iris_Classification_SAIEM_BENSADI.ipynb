{
  "nbformat": 4,
  "nbformat_minor": 0,
  "metadata": {
    "colab": {
      "name": "Iris_Classification_SAIEM_BENSADI",
      "provenance": [],
      "collapsed_sections": [
        "mWIuxEb8U_kh",
        "d1-MX_BO5AMC",
        "NFGVGcVsV9BE"
      ],
      "include_colab_link": true
    },
    "kernelspec": {
      "name": "python3",
      "display_name": "Python 3"
    },
    "language_info": {
      "name": "python"
    }
  },
  "cells": [
    {
      "cell_type": "markdown",
      "metadata": {
        "id": "view-in-github",
        "colab_type": "text"
      },
      "source": [
        "<a href=\"https://colab.research.google.com/github/malakmlk/ML/blob/main/Iris_Classification_SAIEM_BENSADI.ipynb\" target=\"_parent\"><img src=\"https://colab.research.google.com/assets/colab-badge.svg\" alt=\"Open In Colab\"/></a>"
      ]
    },
    {
      "cell_type": "markdown",
      "metadata": {
        "id": "mWIuxEb8U_kh"
      },
      "source": [
        "---\n",
        "### **TP réalisé par** : SAIEM Malak   **&&**   BENSADI Cérine\n",
        "### **Groupe:** SIQ2\n",
        "\n",
        "\n",
        "---\n",
        "\n"
      ]
    },
    {
      "cell_type": "markdown",
      "metadata": {
        "id": "d1-MX_BO5AMC"
      },
      "source": [
        "# **Le probleme de classification des fleures d'Iris:**\n",
        "\n",
        "\n",
        "> Nous traiteons dans ce notebook le probleme de classification des fleurs d'Iris, Comme dataset nous utiliserons le jeu de données [IRIS](https://storage.googleapis.com/download.tensorflow.org/data/iris_training.csv). Ce dernier est une base de données regroupant les caractéristiques de trois espèces de fleurs d’Iris, à savoir Setosa, Versicolour et Virginica. Chaque ligne de ce jeu de données est une observation des caractéristiques d’une fleur d’Iris. Ce dataset décrit les espèces d’Iris par quatre propriétés : longueur et largeur de sépales ainsi que longueur et largeur de pétales. La base de données comporte 120 observations .\n",
        "\n",
        "> Nous avons implémenté 2 méthodes pour la classification des plantes d'iris avec tenserflow. La première avec **un réseau de neurones**, et la deuxiéme consiste à appliquer **une regression logistique multinomiale**.\n",
        "Les deux modeles sont entrainnés et testés en utilisant des jeu de données commun afin de pouvoir comparer leurs précisions.\n",
        "\n",
        "Le travail fait est présenré comme suit:\n",
        "\n",
        "\n",
        "1.   Visualisation du jeu de données.\n",
        "2.   Classification des fleurs f'Iris avec un réseau de neurone\n",
        "3.   Classification des feurs d'iris avec une regression logistique multinomiale\n",
        "\n",
        "\n",
        "\n",
        "\n",
        "\n",
        "\n",
        "\n",
        "\n",
        "\n",
        "\n",
        "\n"
      ]
    },
    {
      "cell_type": "markdown",
      "metadata": {
        "id": "Rv8Kn1rPBrWt"
      },
      "source": [
        "# **Visualisation du jeu de données**\n",
        "\n"
      ]
    },
    {
      "cell_type": "code",
      "metadata": {
        "id": "0bn3kVNOrLLp"
      },
      "source": [
        "import pandas as pd\n",
        "import seaborn as sns\n",
        "import matplotlib.pyplot as plt\n"
      ],
      "execution_count": null,
      "outputs": []
    },
    {
      "cell_type": "markdown",
      "metadata": {
        "id": "2BWpW9WejvXX"
      },
      "source": [
        "Dans ce qui suit , nous procédons à visualiser et afficher les caractéristiques du jeu de données\n"
      ]
    },
    {
      "cell_type": "code",
      "metadata": {
        "colab": {
          "base_uri": "https://localhost:8080/"
        },
        "id": "lESJc5zzYt8m",
        "outputId": "68be83a7-ac97-4329-fadf-c1819249d18f"
      },
      "source": [
        "iris = pd.read_csv(\"https://storage.googleapis.com/download.tensorflow.org/data/iris_training.csv\")\n",
        "for col in iris.columns:\n",
        "    print(col)"
      ],
      "execution_count": null,
      "outputs": [
        {
          "output_type": "stream",
          "text": [
            "120\n",
            "4\n",
            "setosa\n",
            "versicolor\n",
            "virginica\n"
          ],
          "name": "stdout"
        }
      ]
    },
    {
      "cell_type": "markdown",
      "metadata": {
        "id": "ICU3VhfOB8Zz"
      },
      "source": [
        "La première ligne du jeu de données contient sa description.\n",
        "Nous avons dans cette base de données : \n",
        "- 120 enregistrements\n",
        "- Chaque enregistrement contient 4 attributs\n",
        "- 3 valeurs possible pour les étiquettes : \n",
        "  - (0) setosa\n",
        "  - (1) versicolor\n",
        "  - (2) virginica\n",
        "  \n"
      ]
    },
    {
      "cell_type": "code",
      "metadata": {
        "colab": {
          "base_uri": "https://localhost:8080/",
          "height": 195
        },
        "id": "3Y1_Ze6hZZ8g",
        "outputId": "33a7b97c-d6c9-4eb7-ed08-0361916c5a42"
      },
      "source": [
        "column_names = ['sepal_length', 'sepal_width', 'petal_length', 'petal_width', 'species']\n",
        "class_names = ['Iris setosa', 'Iris versicolor', 'Iris virginica']\n",
        "feature_names = column_names[:-1]\n",
        "label_name = column_names[-1]\n",
        "iris.columns = column_names\n",
        "iris.head()"
      ],
      "execution_count": null,
      "outputs": [
        {
          "output_type": "execute_result",
          "data": {
            "text/html": [
              "<div>\n",
              "<style scoped>\n",
              "    .dataframe tbody tr th:only-of-type {\n",
              "        vertical-align: middle;\n",
              "    }\n",
              "\n",
              "    .dataframe tbody tr th {\n",
              "        vertical-align: top;\n",
              "    }\n",
              "\n",
              "    .dataframe thead th {\n",
              "        text-align: right;\n",
              "    }\n",
              "</style>\n",
              "<table border=\"1\" class=\"dataframe\">\n",
              "  <thead>\n",
              "    <tr style=\"text-align: right;\">\n",
              "      <th></th>\n",
              "      <th>sepal_length</th>\n",
              "      <th>sepal_width</th>\n",
              "      <th>petal_length</th>\n",
              "      <th>petal_width</th>\n",
              "      <th>species</th>\n",
              "    </tr>\n",
              "  </thead>\n",
              "  <tbody>\n",
              "    <tr>\n",
              "      <th>0</th>\n",
              "      <td>6.4</td>\n",
              "      <td>2.8</td>\n",
              "      <td>5.6</td>\n",
              "      <td>2.2</td>\n",
              "      <td>2</td>\n",
              "    </tr>\n",
              "    <tr>\n",
              "      <th>1</th>\n",
              "      <td>5.0</td>\n",
              "      <td>2.3</td>\n",
              "      <td>3.3</td>\n",
              "      <td>1.0</td>\n",
              "      <td>1</td>\n",
              "    </tr>\n",
              "    <tr>\n",
              "      <th>2</th>\n",
              "      <td>4.9</td>\n",
              "      <td>2.5</td>\n",
              "      <td>4.5</td>\n",
              "      <td>1.7</td>\n",
              "      <td>2</td>\n",
              "    </tr>\n",
              "    <tr>\n",
              "      <th>3</th>\n",
              "      <td>4.9</td>\n",
              "      <td>3.1</td>\n",
              "      <td>1.5</td>\n",
              "      <td>0.1</td>\n",
              "      <td>0</td>\n",
              "    </tr>\n",
              "    <tr>\n",
              "      <th>4</th>\n",
              "      <td>5.7</td>\n",
              "      <td>3.8</td>\n",
              "      <td>1.7</td>\n",
              "      <td>0.3</td>\n",
              "      <td>0</td>\n",
              "    </tr>\n",
              "  </tbody>\n",
              "</table>\n",
              "</div>"
            ],
            "text/plain": [
              "   sepal_length  sepal_width  petal_length  petal_width  species\n",
              "0           6.4          2.8           5.6          2.2        2\n",
              "1           5.0          2.3           3.3          1.0        1\n",
              "2           4.9          2.5           4.5          1.7        2\n",
              "3           4.9          3.1           1.5          0.1        0\n",
              "4           5.7          3.8           1.7          0.3        0"
            ]
          },
          "metadata": {
            "tags": []
          },
          "execution_count": 4
        }
      ]
    },
    {
      "cell_type": "markdown",
      "metadata": {
        "id": "SJv17BOOB0RT"
      },
      "source": [
        "À partir de cette vue de l'ensemble de données, on peut conclure que:\n",
        "\n",
        "- La figure ci-dessus représente les premiers 5 enregistrements.\n",
        "Les quatre premiers champs sont des **features** : ce sont les caractéristiques d'un exemple. Ici, les champs contiennent des nombres flottants représentant les mesures des fleurs.\n",
        "La dernière colonne est le **label** : c'est la valeur que nous voulons prédire. Pour cet ensemble de données, il s'agit d'une valeur entière de 0, 1 ou 2 qui correspond à un nom de fleur.\n"
      ]
    },
    {
      "cell_type": "markdown",
      "metadata": {
        "id": "GnyfVvZZhDDH"
      },
      "source": [
        "Afficherons maintenant le nombre de fleurs qu'on a dans chacun des éspèces: \n"
      ]
    },
    {
      "cell_type": "code",
      "metadata": {
        "colab": {
          "base_uri": "https://localhost:8080/"
        },
        "id": "AfihiQsthkQK",
        "outputId": "e9403b8d-a10c-44ed-ba4d-0b0b2390db01"
      },
      "source": [
        "iris[\"species\"].value_counts()"
      ],
      "execution_count": null,
      "outputs": [
        {
          "output_type": "execute_result",
          "data": {
            "text/plain": [
              "2    42\n",
              "0    42\n",
              "1    36\n",
              "Name: species, dtype: int64"
            ]
          },
          "metadata": {
            "tags": []
          },
          "execution_count": 5
        }
      ]
    },
    {
      "cell_type": "markdown",
      "metadata": {
        "id": "xkFbJDlelIW6"
      },
      "source": [
        "En fin, la figure ci-dessous sert à visualier l'ensemble des données en utilisant à chaque fois , un couple de variables comme axes du plan. \n"
      ]
    },
    {
      "cell_type": "code",
      "metadata": {
        "colab": {
          "base_uri": "https://localhost:8080/",
          "height": 918
        },
        "id": "wkjD-wgZlpYX",
        "outputId": "19f9d10d-0216-4ade-bace-563b9bdffb7a"
      },
      "source": [
        "sns.pairplot(iris, hue=\"species\", palette=\"bright\", size=3)"
      ],
      "execution_count": null,
      "outputs": [
        {
          "output_type": "stream",
          "text": [
            "/usr/local/lib/python3.7/dist-packages/seaborn/axisgrid.py:1969: UserWarning: The `size` parameter has been renamed to `height`; please update your code.\n",
            "  warnings.warn(msg, UserWarning)\n"
          ],
          "name": "stderr"
        },
        {
          "output_type": "execute_result",
          "data": {
            "text/plain": [
              "<seaborn.axisgrid.PairGrid at 0x7f957fa6c750>"
            ]
          },
          "metadata": {
            "tags": []
          },
          "execution_count": 6
        },
        {
          "output_type": "display_data",
          "data": {
            "image/png": "[encoded data removed]",
            "text/plain": [
              "<Figure size 909.375x864 with 20 Axes>"
            ]
          },
          "metadata": {
            "tags": [],
            "needs_background": "light"
          }
        }
      ]
    },
    {
      "cell_type": "markdown",
      "metadata": {
        "id": "PXkCSA6prnAk"
      },
      "source": [
        "#**Classification des fleurs d'Iris avec un réseau de neurones**"
      ]
    },
    {
      "cell_type": "markdown",
      "metadata": {
        "id": "uCdyoGRfNM0b"
      },
      "source": [
        "\n",
        "## **Chargement des bibliothèques**\n",
        "\n"
      ]
    },
    {
      "cell_type": "code",
      "metadata": {
        "id": "E8KiH05tNM0e"
      },
      "source": [
        "import os\n",
        "import matplotlib.pyplot as plt\n",
        "import tensorflow as tf\n"
      ],
      "execution_count": null,
      "outputs": []
    },
    {
      "cell_type": "markdown",
      "metadata": {
        "id": "GRPU6sPjAr0U"
      },
      "source": [
        "## **Chargement du jeu de données IRIS**\n",
        "Dans cette partie, on va télecharger le dataset file et le convertir en une structure qu'on peut utiliser avec tenserflow.\n",
        "Pour réaliser cela on utiliser la methode **tf.keras.utils.get_file**.\n",
        "Dans ce qui suit, nous allons importer le fichier de donnnées, les visualiser et puis les mélanger.\n"
      ]
    },
    {
      "cell_type": "code",
      "metadata": {
        "id": "nRr0hSB4rpdu",
        "colab": {
          "base_uri": "https://localhost:8080/"
        },
        "outputId": "328db4c1-6120-4980-c101-4a1c791ab0af"
      },
      "source": [
        "train_dataset_url=\"https://storage.googleapis.com/download.tensorflow.org/data/iris_training.csv\"\n",
        "train_dataset_fp = tf.keras.utils.get_file(fname=os.path.basename(train_dataset_url),\n",
        "                                           origin=train_dataset_url)\n",
        "\n",
        "print(\"\\nUne version local du jeu de données locale est créée: {}\".format(train_dataset_fp))"
      ],
      "execution_count": null,
      "outputs": [
        {
          "output_type": "stream",
          "text": [
            "\n",
            "Une version local du jeu de données locale est créée: /root/.keras/datasets/iris_training.csv\n"
          ],
          "name": "stdout"
        }
      ]
    },
    {
      "cell_type": "markdown",
      "metadata": {
        "id": "FFYoE4qXCJ1S"
      },
      "source": [
        "## **Création d'un tf.data.dataset**"
      ]
    },
    {
      "cell_type": "markdown",
      "metadata": {
        "id": "WkBt7ir6LLRG"
      },
      "source": [
        " Afin de pouvoir faire l'analyse de ces données dans une format approprié nous allons travailler avec la fonction **tf.data.experimental.make_csv_dataset** qui retourne  un tf.data.Dataset de tf.data.Dataset (features, label) , où features est un dictionnaire: {'feature_name': value}."
      ]
    },
    {
      "cell_type": "code",
      "metadata": {
        "id": "PAjlkubqIz6b"
      },
      "source": [
        "batch_size = 120\n",
        "\n",
        "train_dataset = tf.data.experimental.make_csv_dataset(\n",
        "    train_dataset_fp,\n",
        "    batch_size,\n",
        "    column_names=column_names,\n",
        "    label_name=label_name,\n",
        "    num_epochs=1)"
      ],
      "execution_count": null,
      "outputs": []
    },
    {
      "cell_type": "code",
      "metadata": {
        "id": "Ogrb-UKnJzrA",
        "colab": {
          "base_uri": "https://localhost:8080/",
          "height": 289
        },
        "outputId": "f0b1153b-e933-4e3a-ec40-56daa49a764c"
      },
      "source": [
        "features, labels = next(iter(train_dataset))"
      ],
      "execution_count": null,
      "outputs": [
        {
          "output_type": "error",
          "ename": "RuntimeError",
          "evalue": "ignored",
          "traceback": [
            "\u001b[0;31m---------------------------------------------------------------------------\u001b[0m",
            "\u001b[0;31mRuntimeError\u001b[0m                              Traceback (most recent call last)",
            "\u001b[0;32m<ipython-input-67-b6a913622e3e>\u001b[0m in \u001b[0;36m<module>\u001b[0;34m()\u001b[0m\n\u001b[0;32m----> 1\u001b[0;31m \u001b[0mfeatures\u001b[0m\u001b[0;34m,\u001b[0m \u001b[0mlabels\u001b[0m \u001b[0;34m=\u001b[0m \u001b[0mnext\u001b[0m\u001b[0;34m(\u001b[0m\u001b[0miter\u001b[0m\u001b[0;34m(\u001b[0m\u001b[0mtrain_dataset\u001b[0m\u001b[0;34m)\u001b[0m\u001b[0;34m)\u001b[0m\u001b[0;34m\u001b[0m\u001b[0;34m\u001b[0m\u001b[0m\n\u001b[0m",
            "\u001b[0;32m/usr/local/lib/python3.7/dist-packages/tensorflow/python/data/ops/dataset_ops.py\u001b[0m in \u001b[0;36m__iter__\u001b[0;34m(self)\u001b[0m\n\u001b[1;32m    422\u001b[0m         \u001b[0;32mreturn\u001b[0m \u001b[0miterator_ops\u001b[0m\u001b[0;34m.\u001b[0m\u001b[0mOwnedIterator\u001b[0m\u001b[0;34m(\u001b[0m\u001b[0mself\u001b[0m\u001b[0;34m)\u001b[0m\u001b[0;34m\u001b[0m\u001b[0;34m\u001b[0m\u001b[0m\n\u001b[1;32m    423\u001b[0m     \u001b[0;32melse\u001b[0m\u001b[0;34m:\u001b[0m\u001b[0;34m\u001b[0m\u001b[0;34m\u001b[0m\u001b[0m\n\u001b[0;32m--> 424\u001b[0;31m       raise RuntimeError(\"__iter__() is only supported inside of tf.function \"\n\u001b[0m\u001b[1;32m    425\u001b[0m                          \"or when eager execution is enabled.\")\n\u001b[1;32m    426\u001b[0m \u001b[0;34m\u001b[0m\u001b[0m\n",
            "\u001b[0;31mRuntimeError\u001b[0m: __iter__() is only supported inside of tf.function or when eager execution is enabled."
          ]
        }
      ]
    },
    {
      "cell_type": "markdown",
      "metadata": {
        "id": "pX_5BfiGMdfO"
      },
      "source": [
        "la fonction pack_features_vector va rendre le dictionaire des features en un seule liste de shape(120,4)."
      ]
    },
    {
      "cell_type": "code",
      "metadata": {
        "id": "-jn5PqozMA07"
      },
      "source": [
        "def pack_features_vector(features, labels):\n",
        "  features = tf.stack(list(features.values()), axis=1)\n",
        "  return features, labels"
      ],
      "execution_count": null,
      "outputs": []
    },
    {
      "cell_type": "code",
      "metadata": {
        "id": "E69xvpjiMBrk",
        "colab": {
          "base_uri": "https://localhost:8080/"
        },
        "outputId": "54288904-4fa6-45bd-c5a2-b3d970187d4e"
      },
      "source": [
        "train_dataset = train_dataset.map(pack_features_vector)\n",
        "features, labels = next(iter(train_dataset))\n",
        "print(labels[:10])"
      ],
      "execution_count": null,
      "outputs": [
        {
          "output_type": "stream",
          "text": [
            "tf.Tensor([2 0 0 1 0 2 1 2 0 0], shape=(10,), dtype=int32)\n"
          ],
          "name": "stdout"
        }
      ]
    },
    {
      "cell_type": "markdown",
      "metadata": {
        "id": "NFjoMhXzOfOk"
      },
      "source": [
        "## **Le choix du modèle**\n",
        "le modele va comporter **3 couche**,deux couches avec 10 noeud et une couche de sortie avec trois noeud, et comme fonction d'activation on a choisi de travailler avec la donction **RELU**\n"
      ]
    },
    {
      "cell_type": "code",
      "metadata": {
        "id": "tWSHDy2LOdsq"
      },
      "source": [
        "model = tf.keras.Sequential([\n",
        "  tf.keras.layers.Dense(10, activation=tf.nn.relu, input_shape=(4,)), \n",
        "  tf.keras.layers.Dense(10, activation=tf.nn.relu),\n",
        "  tf.keras.layers.Dense(3)\n",
        "])"
      ],
      "execution_count": null,
      "outputs": []
    },
    {
      "cell_type": "markdown",
      "metadata": {
        "id": "W3PR5A73PR-K"
      },
      "source": [
        "## **Entrainement du modèle**"
      ]
    },
    {
      "cell_type": "markdown",
      "metadata": {
        "id": "q-v4oT2lSUbc"
      },
      "source": [
        "### Définition de loss et gradiant "
      ]
    },
    {
      "cell_type": "code",
      "metadata": {
        "id": "OO52sFBzPkxW"
      },
      "source": [
        "loss_object = tf.keras.losses.SparseCategoricalCrossentropy(from_logits=True)"
      ],
      "execution_count": null,
      "outputs": []
    },
    {
      "cell_type": "code",
      "metadata": {
        "colab": {
          "base_uri": "https://localhost:8080/"
        },
        "id": "pfwlURCzPpyc",
        "outputId": "4904689e-dc64-4efd-f146-e46d64401a3c"
      },
      "source": [
        "def loss(model, x, y, training):\n",
        " \n",
        "  y_ = model(x, training=training)\n",
        "\n",
        "  return loss_object(y_true=y, y_pred=y_)\n",
        "\n",
        "\n",
        "l = loss(model, features, labels, training=False)\n",
        "print(\"Loss test: {}\".format(l))"
      ],
      "execution_count": null,
      "outputs": [
        {
          "output_type": "stream",
          "text": [
            "Loss test: 1.3901270627975464\n"
          ],
          "name": "stdout"
        }
      ]
    },
    {
      "cell_type": "code",
      "metadata": {
        "id": "FlhUiVK7PwL0"
      },
      "source": [
        "def grad(model, inputs, targets):\n",
        "  with tf.GradientTape() as tape:\n",
        "    loss_value = loss(model, inputs, targets, training=True)\n",
        "  return loss_value, tape.gradient(loss_value, model.trainable_variables)"
      ],
      "execution_count": null,
      "outputs": []
    },
    {
      "cell_type": "markdown",
      "metadata": {
        "id": "avVUqYGYP2QH"
      },
      "source": [
        "### Création d'un optimiseur\n",
        "\n"
      ]
    },
    {
      "cell_type": "code",
      "metadata": {
        "id": "_Yhg6lyvP7sn"
      },
      "source": [
        "optimizer = tf.keras.optimizers.SGD(learning_rate=0.01)\n"
      ],
      "execution_count": null,
      "outputs": []
    },
    {
      "cell_type": "code",
      "metadata": {
        "colab": {
          "base_uri": "https://localhost:8080/"
        },
        "id": "ZS3sXZtZP_Au",
        "outputId": "4deb4f04-e98c-4778-8c5d-dd02295085f0"
      },
      "source": [
        "loss_value, grads = grad(model, features, labels)\n",
        "\n",
        "print(\"Step: {}, Initial Loss: {}\".format(optimizer.iterations.numpy(),loss_value.numpy()))\n",
        "\n",
        "optimizer.apply_gradients(zip(grads, model.trainable_variables))\n",
        "\n",
        "print(\"Step: {},         Loss: {}\".format(optimizer.iterations.numpy(),loss(model, features, labels, training=True).numpy()))"
      ],
      "execution_count": null,
      "outputs": [
        {
          "output_type": "stream",
          "text": [
            "Step: 0, Initial Loss: 1.3901270627975464\n",
            "Step: 1,         Loss: 1.302258014678955\n"
          ],
          "name": "stdout"
        }
      ]
    },
    {
      "cell_type": "markdown",
      "metadata": {
        "id": "n24y27vOS_xX"
      },
      "source": [
        "### Boucle d'entraînement"
      ]
    },
    {
      "cell_type": "code",
      "metadata": {
        "colab": {
          "base_uri": "https://localhost:8080/"
        },
        "id": "Dn8pVfTPTDBm",
        "outputId": "20ce4cba-c662-4e2f-acda-6cdb2915983c"
      },
      "source": [
        "\n",
        "train_loss_results = []\n",
        "train_accuracy_results = []\n",
        "\n",
        "num_epochs = 100\n",
        "\n",
        "for epoch in range(num_epochs):\n",
        "  epoch_loss_avg = tf.keras.metrics.Mean()\n",
        "  epoch_accuracy = tf.keras.metrics.SparseCategoricalAccuracy()\n",
        "\n",
        "  \n",
        "  for x, y in train_dataset:\n",
        "    # Optimizer le modele\n",
        "    loss_value, grads = grad(model, x, y)\n",
        "    optimizer.apply_gradients(zip(grads, model.trainable_variables))\n",
        "\n",
        "    # Track progress\n",
        "    epoch_loss_avg.update_state(loss_value)  # ajouter le loss courant\n",
        "    # comparaison entre le label prédictée et le label réel\n",
        "  \n",
        "    epoch_accuracy.update_state(y, model(x, training=True))\n",
        "\n",
        "  # End epoch\n",
        "  train_loss_results.append(epoch_loss_avg.result())\n",
        "  train_accuracy_results.append(epoch_accuracy.result())\n",
        "\n",
        "  if epoch % 50 == 0:\n",
        "    print(\"Epoch {:03d}: Loss: {:.3f}, Accuracy: {:.3%}\".format(epoch,\n",
        "                                                                epoch_loss_avg.result(),\n",
        "                                                                epoch_accuracy.result()))"
      ],
      "execution_count": null,
      "outputs": [
        {
          "output_type": "stream",
          "text": [
            "Epoch 000: Loss: 1.302, Accuracy: 35.000%\n",
            "Epoch 050: Loss: 0.725, Accuracy: 78.333%\n",
            "Epoch 100: Loss: 0.541, Accuracy: 88.333%\n",
            "Epoch 150: Loss: 0.436, Accuracy: 91.667%\n",
            "Epoch 200: Loss: 0.372, Accuracy: 93.333%\n",
            "Epoch 250: Loss: 0.326, Accuracy: 95.000%\n",
            "Epoch 300: Loss: 0.290, Accuracy: 95.833%\n",
            "Epoch 350: Loss: 0.260, Accuracy: 95.833%\n",
            "Epoch 400: Loss: 0.235, Accuracy: 96.667%\n",
            "Epoch 450: Loss: 0.213, Accuracy: 96.667%\n",
            "Epoch 500: Loss: 0.194, Accuracy: 97.500%\n",
            "Epoch 550: Loss: 0.179, Accuracy: 97.500%\n",
            "Epoch 600: Loss: 0.165, Accuracy: 97.500%\n"
          ],
          "name": "stdout"
        }
      ]
    },
    {
      "cell_type": "markdown",
      "metadata": {
        "id": "iZmgVQr3UVX7"
      },
      "source": [
        "## **Tester le modèle**"
      ]
    },
    {
      "cell_type": "markdown",
      "metadata": {
        "id": "Wkf-dLu8Usxt"
      },
      "source": [
        "Pour évaluer l'efficacité d'un modèle, les exemples utilisés sont différents que des exemples utilisés pour entraîner le modèle.\n",
        "\n",
        "La configuration de l'ensemble de Dataset test est similaire à la configuration de l'ensemble de Dataset entraînement. Téléchargez le fichier texte CSV et analysez ces valeurs, puis mélangez-le un peu:"
      ]
    },
    {
      "cell_type": "code",
      "metadata": {
        "id": "7TvMF84pUHK_",
        "colab": {
          "base_uri": "https://localhost:8080/"
        },
        "outputId": "ca5b4959-dbf9-45d4-f82f-3c2721b79603"
      },
      "source": [
        "test_url = \"https://storage.googleapis.com/download.tensorflow.org/data/iris_test.csv\"\n",
        "\n",
        "test_fp = tf.keras.utils.get_file(fname=os.path.basename(test_url),\n",
        "                                  origin=test_url)"
      ],
      "execution_count": null,
      "outputs": [
        {
          "output_type": "stream",
          "text": [
            "Downloading data from https://storage.googleapis.com/download.tensorflow.org/data/iris_test.csv\n",
            "\r8192/573 [============================================================================================================================================================================================================================================================================================================================================================================================================================================] - 0s 0us/step\n"
          ],
          "name": "stdout"
        }
      ]
    },
    {
      "cell_type": "code",
      "metadata": {
        "id": "38drHbWcVGJz"
      },
      "source": [
        "test_dataset = tf.data.experimental.make_csv_dataset(\n",
        "    test_fp,\n",
        "    batch_size,\n",
        "    column_names=column_names,\n",
        "    label_name='species',\n",
        "    num_epochs=1,\n",
        "    shuffle=False)\n",
        "\n",
        "test_dataset = test_dataset.map(pack_features_vector)"
      ],
      "execution_count": null,
      "outputs": []
    },
    {
      "cell_type": "code",
      "metadata": {
        "id": "ELitlzsTVKDp",
        "colab": {
          "base_uri": "https://localhost:8080/"
        },
        "outputId": "482d6fea-69df-46e1-b0e0-65d13a32d747"
      },
      "source": [
        "test_accuracy = tf.keras.metrics.Accuracy()\n",
        "\n",
        "for (x, y) in test_dataset:\n",
        "  \n",
        "  logits = model(x, training=False)\n",
        "  prediction = tf.argmax(logits, axis=1, output_type=tf.int32)\n",
        "  test_accuracy(prediction, y)\n",
        "\n",
        "print(\"Test set accuracy: {:.3%}\".format(test_accuracy.result()))"
      ],
      "execution_count": null,
      "outputs": [
        {
          "output_type": "stream",
          "text": [
            "Test set accuracy: 96.667%\n"
          ],
          "name": "stdout"
        }
      ]
    },
    {
      "cell_type": "markdown",
      "metadata": {
        "id": "0l-rY1EuVTbG"
      },
      "source": [
        "Visualiser les valeur prédictées par rapport aux valeurs originals."
      ]
    },
    {
      "cell_type": "code",
      "metadata": {
        "id": "N86tQXNsVN5K",
        "colab": {
          "base_uri": "https://localhost:8080/"
        },
        "outputId": "42d08533-b973-494f-cbe9-0b14199321c3"
      },
      "source": [
        "tf.stack([y,prediction],axis=1)"
      ],
      "execution_count": null,
      "outputs": [
        {
          "output_type": "execute_result",
          "data": {
            "text/plain": [
              "<tf.Tensor: shape=(30, 2), dtype=int32, numpy=\n",
              "array([[1, 1],\n",
              "       [2, 2],\n",
              "       [0, 0],\n",
              "       [1, 1],\n",
              "       [1, 1],\n",
              "       [1, 1],\n",
              "       [0, 0],\n",
              "       [2, 2],\n",
              "       [1, 1],\n",
              "       [2, 2],\n",
              "       [2, 2],\n",
              "       [0, 0],\n",
              "       [2, 2],\n",
              "       [1, 1],\n",
              "       [1, 1],\n",
              "       [0, 0],\n",
              "       [1, 1],\n",
              "       [0, 0],\n",
              "       [0, 0],\n",
              "       [2, 2],\n",
              "       [0, 0],\n",
              "       [1, 1],\n",
              "       [2, 2],\n",
              "       [1, 2],\n",
              "       [1, 1],\n",
              "       [1, 1],\n",
              "       [0, 0],\n",
              "       [1, 1],\n",
              "       [2, 2],\n",
              "       [1, 1]], dtype=int32)>"
            ]
          },
          "metadata": {
            "tags": []
          },
          "execution_count": 23
        }
      ]
    },
    {
      "cell_type": "markdown",
      "metadata": {
        "id": "BxGVTrKaVo3d"
      },
      "source": [
        "on peut conclure que la majorité des valeurs prédictées sont correcte."
      ]
    },
    {
      "cell_type": "markdown",
      "metadata": {
        "id": "NFGVGcVsV9BE"
      },
      "source": [
        "## **Utilisation de modele**\n",
        "Apres avoir tester le modele , on peut dire qu'il bon, c'est le temps de l'utiliser pour predicter des nouvelles prédictions sur d'autres examples."
      ]
    },
    {
      "cell_type": "code",
      "metadata": {
        "colab": {
          "base_uri": "https://localhost:8080/"
        },
        "id": "OJgj6bB6WmBx",
        "outputId": "33395eb9-bbbf-41aa-867a-3e12e415081f"
      },
      "source": [
        "predict_dataset = tf.convert_to_tensor([\n",
        "    [4.8,3,1.4,0.3,],#setosa\n",
        "    [7,3.2,4.7,1.4],#versicolor\n",
        "    [6.3,2.5,5,1.9],#virginica\n",
        "    [5.9,3,5.1,1.8],#virginica\n",
        "    [5,3.3,1.4,0.2]#sesota\n",
        "])\n",
        "\n",
        "\n",
        "predictions = model(predict_dataset, training=False)\n",
        "\n",
        "for i, logits in enumerate(predictions):\n",
        "  class_idx = tf.argmax(logits).numpy()\n",
        "  p = tf.nn.softmax(logits)[class_idx]\n",
        "  name = class_names[class_idx]\n",
        "  print(\"Example {} prediction: {} ({:4.1f}%)\".format(i, name, 100*p))"
      ],
      "execution_count": null,
      "outputs": [
        {
          "output_type": "stream",
          "text": [
            "Example 0 prediction: Iris setosa (97.5%)\n",
            "Example 1 prediction: Iris versicolor (94.7%)\n",
            "Example 2 prediction: Iris virginica (82.1%)\n",
            "Example 3 prediction: Iris virginica (82.2%)\n",
            "Example 4 prediction: Iris setosa (98.7%)\n"
          ],
          "name": "stdout"
        }
      ]
    },
    {
      "cell_type": "markdown",
      "metadata": {
        "id": "_5zyQMmsPY8f"
      },
      "source": [
        "#**Classification des fleurs d'Iris avec softmax regression (Multinomial regression)**"
      ]
    },
    {
      "cell_type": "markdown",
      "metadata": {
        "id": "sb2ENrPWPY8h"
      },
      "source": [
        "\n",
        "## **Chargement des bibliothèques**\n",
        "\n"
      ]
    },
    {
      "cell_type": "code",
      "metadata": {
        "id": "OI3t2lYoPY8k",
        "colab": {
          "base_uri": "https://localhost:8080/"
        },
        "outputId": "7aa54ef5-fe81-48d9-a216-1790cf4925c3"
      },
      "source": [
        "import os\n",
        "import tensorflow.compat.v1 as tf\n",
        "tf.disable_v2_behavior() \n",
        "import pandas as pd\n",
        "import seaborn as sns\n",
        "import matplotlib.pyplot as plt\n"
      ],
      "execution_count": null,
      "outputs": [
        {
          "output_type": "stream",
          "text": [
            "WARNING:tensorflow:From /usr/local/lib/python3.7/dist-packages/tensorflow/python/compat/v2_compat.py:96: disable_resource_variables (from tensorflow.python.ops.variable_scope) is deprecated and will be removed in a future version.\n",
            "Instructions for updating:\n",
            "non-resource variables are not supported in the long term\n"
          ],
          "name": "stdout"
        }
      ]
    },
    {
      "cell_type": "markdown",
      "metadata": {
        "id": "I1ZAfyUSwK2y"
      },
      "source": [
        "## **Chargement des données**"
      ]
    },
    {
      "cell_type": "markdown",
      "metadata": {
        "id": "f22vtm2DsFmV"
      },
      "source": [
        "D'abord on importe de nouveau le jeu de données"
      ]
    },
    {
      "cell_type": "code",
      "metadata": {
        "id": "SxLqz4SVr2eL"
      },
      "source": [
        "iris_data = pd.read_csv(\"https://storage.googleapis.com/download.tensorflow.org/data/iris_training.csv\")"
      ],
      "execution_count": null,
      "outputs": []
    },
    {
      "cell_type": "markdown",
      "metadata": {
        "id": "lszbHaBOsKta"
      },
      "source": [
        "On applique un encodage one-hote sur la colonne 'label' ainsi on obtiendra 3 nouvelles colonnes, chacune corresponde à un espèce des fleurs d'Iris\n"
      ]
    },
    {
      "cell_type": "code",
      "metadata": {
        "colab": {
          "base_uri": "https://localhost:8080/",
          "height": 195
        },
        "id": "WKhEUsY3sKa2",
        "outputId": "fb64fcae-9c47-4907-8ccd-a6e4773c0bba"
      },
      "source": [
        "column_names = ['sepal_length', 'sepal_width', 'petal_length', 'petal_width', 'species']\n",
        "class_names = ['Iris setosa', 'Iris versicolor', 'Iris virginica']\n",
        "feature_names = column_names[:-1]\n",
        "label_name = column_names[-1]\n",
        "iris_data.columns = column_names\n",
        "iris_data_one_hot_encoded = pd.get_dummies(iris_data,columns=[\"species\"])\n",
        "iris_data_one_hot_encoded.head()"
      ],
      "execution_count": null,
      "outputs": [
        {
          "output_type": "execute_result",
          "data": {
            "text/html": [
              "<div>\n",
              "<style scoped>\n",
              "    .dataframe tbody tr th:only-of-type {\n",
              "        vertical-align: middle;\n",
              "    }\n",
              "\n",
              "    .dataframe tbody tr th {\n",
              "        vertical-align: top;\n",
              "    }\n",
              "\n",
              "    .dataframe thead th {\n",
              "        text-align: right;\n",
              "    }\n",
              "</style>\n",
              "<table border=\"1\" class=\"dataframe\">\n",
              "  <thead>\n",
              "    <tr style=\"text-align: right;\">\n",
              "      <th></th>\n",
              "      <th>sepal_length</th>\n",
              "      <th>sepal_width</th>\n",
              "      <th>petal_length</th>\n",
              "      <th>petal_width</th>\n",
              "      <th>species_0</th>\n",
              "      <th>species_1</th>\n",
              "      <th>species_2</th>\n",
              "    </tr>\n",
              "  </thead>\n",
              "  <tbody>\n",
              "    <tr>\n",
              "      <th>0</th>\n",
              "      <td>6.4</td>\n",
              "      <td>2.8</td>\n",
              "      <td>5.6</td>\n",
              "      <td>2.2</td>\n",
              "      <td>0</td>\n",
              "      <td>0</td>\n",
              "      <td>1</td>\n",
              "    </tr>\n",
              "    <tr>\n",
              "      <th>1</th>\n",
              "      <td>5.0</td>\n",
              "      <td>2.3</td>\n",
              "      <td>3.3</td>\n",
              "      <td>1.0</td>\n",
              "      <td>0</td>\n",
              "      <td>1</td>\n",
              "      <td>0</td>\n",
              "    </tr>\n",
              "    <tr>\n",
              "      <th>2</th>\n",
              "      <td>4.9</td>\n",
              "      <td>2.5</td>\n",
              "      <td>4.5</td>\n",
              "      <td>1.7</td>\n",
              "      <td>0</td>\n",
              "      <td>0</td>\n",
              "      <td>1</td>\n",
              "    </tr>\n",
              "    <tr>\n",
              "      <th>3</th>\n",
              "      <td>4.9</td>\n",
              "      <td>3.1</td>\n",
              "      <td>1.5</td>\n",
              "      <td>0.1</td>\n",
              "      <td>1</td>\n",
              "      <td>0</td>\n",
              "      <td>0</td>\n",
              "    </tr>\n",
              "    <tr>\n",
              "      <th>4</th>\n",
              "      <td>5.7</td>\n",
              "      <td>3.8</td>\n",
              "      <td>1.7</td>\n",
              "      <td>0.3</td>\n",
              "      <td>1</td>\n",
              "      <td>0</td>\n",
              "      <td>0</td>\n",
              "    </tr>\n",
              "  </tbody>\n",
              "</table>\n",
              "</div>"
            ],
            "text/plain": [
              "   sepal_length  sepal_width  petal_length  ...  species_0  species_1  species_2\n",
              "0           6.4          2.8           5.6  ...          0          0          1\n",
              "1           5.0          2.3           3.3  ...          0          1          0\n",
              "2           4.9          2.5           4.5  ...          0          0          1\n",
              "3           4.9          3.1           1.5  ...          1          0          0\n",
              "4           5.7          3.8           1.7  ...          1          0          0\n",
              "\n",
              "[5 rows x 7 columns]"
            ]
          },
          "metadata": {
            "tags": []
          },
          "execution_count": 27
        }
      ]
    },
    {
      "cell_type": "markdown",
      "metadata": {
        "id": "MWVgFCugv40p"
      },
      "source": [
        "On renomme les colonnes des éspèces"
      ]
    },
    {
      "cell_type": "code",
      "metadata": {
        "colab": {
          "base_uri": "https://localhost:8080/",
          "height": 195
        },
        "id": "jq7_P64DumBk",
        "outputId": "cf8ee95b-3723-479d-b6be-c247519e085d"
      },
      "source": [
        "one_hot_columns = ['sepal_length', 'sepal_width', 'petal_length', 'petal_width', 'setosa'\n",
        "                    ,'versicolor', 'virginica']\n",
        "iris_data_one_hot_encoded.columns = one_hot_columns\n",
        "iris_data_one_hot_encoded.head()"
      ],
      "execution_count": null,
      "outputs": [
        {
          "output_type": "execute_result",
          "data": {
            "text/html": [
              "<div>\n",
              "<style scoped>\n",
              "    .dataframe tbody tr th:only-of-type {\n",
              "        vertical-align: middle;\n",
              "    }\n",
              "\n",
              "    .dataframe tbody tr th {\n",
              "        vertical-align: top;\n",
              "    }\n",
              "\n",
              "    .dataframe thead th {\n",
              "        text-align: right;\n",
              "    }\n",
              "</style>\n",
              "<table border=\"1\" class=\"dataframe\">\n",
              "  <thead>\n",
              "    <tr style=\"text-align: right;\">\n",
              "      <th></th>\n",
              "      <th>sepal_length</th>\n",
              "      <th>sepal_width</th>\n",
              "      <th>petal_length</th>\n",
              "      <th>petal_width</th>\n",
              "      <th>setosa</th>\n",
              "      <th>versicolor</th>\n",
              "      <th>virginica</th>\n",
              "    </tr>\n",
              "  </thead>\n",
              "  <tbody>\n",
              "    <tr>\n",
              "      <th>0</th>\n",
              "      <td>6.4</td>\n",
              "      <td>2.8</td>\n",
              "      <td>5.6</td>\n",
              "      <td>2.2</td>\n",
              "      <td>0</td>\n",
              "      <td>0</td>\n",
              "      <td>1</td>\n",
              "    </tr>\n",
              "    <tr>\n",
              "      <th>1</th>\n",
              "      <td>5.0</td>\n",
              "      <td>2.3</td>\n",
              "      <td>3.3</td>\n",
              "      <td>1.0</td>\n",
              "      <td>0</td>\n",
              "      <td>1</td>\n",
              "      <td>0</td>\n",
              "    </tr>\n",
              "    <tr>\n",
              "      <th>2</th>\n",
              "      <td>4.9</td>\n",
              "      <td>2.5</td>\n",
              "      <td>4.5</td>\n",
              "      <td>1.7</td>\n",
              "      <td>0</td>\n",
              "      <td>0</td>\n",
              "      <td>1</td>\n",
              "    </tr>\n",
              "    <tr>\n",
              "      <th>3</th>\n",
              "      <td>4.9</td>\n",
              "      <td>3.1</td>\n",
              "      <td>1.5</td>\n",
              "      <td>0.1</td>\n",
              "      <td>1</td>\n",
              "      <td>0</td>\n",
              "      <td>0</td>\n",
              "    </tr>\n",
              "    <tr>\n",
              "      <th>4</th>\n",
              "      <td>5.7</td>\n",
              "      <td>3.8</td>\n",
              "      <td>1.7</td>\n",
              "      <td>0.3</td>\n",
              "      <td>1</td>\n",
              "      <td>0</td>\n",
              "      <td>0</td>\n",
              "    </tr>\n",
              "  </tbody>\n",
              "</table>\n",
              "</div>"
            ],
            "text/plain": [
              "   sepal_length  sepal_width  petal_length  ...  setosa  versicolor  virginica\n",
              "0           6.4          2.8           5.6  ...       0           0          1\n",
              "1           5.0          2.3           3.3  ...       0           1          0\n",
              "2           4.9          2.5           4.5  ...       0           0          1\n",
              "3           4.9          3.1           1.5  ...       1           0          0\n",
              "4           5.7          3.8           1.7  ...       1           0          0\n",
              "\n",
              "[5 rows x 7 columns]"
            ]
          },
          "metadata": {
            "tags": []
          },
          "execution_count": 28
        }
      ]
    },
    {
      "cell_type": "markdown",
      "metadata": {
        "id": "ixPTCcBpwd_2"
      },
      "source": [
        "## **Création du modèle**\n"
      ]
    },
    {
      "cell_type": "markdown",
      "metadata": {
        "id": "ZEGlvLZExEgm"
      },
      "source": [
        "A partir des datasets créés, on sépare les inputs des output.\n"
      ]
    },
    {
      "cell_type": "code",
      "metadata": {
        "id": "BTfEMzZ-wxDR"
      },
      "source": [
        "input_columns = ['sepal_length' ,'sepal_width','petal_length','petal_width']\n",
        "label_columns = ['setosa','versicolor','virginica']\n",
        "\n",
        "iris_train_input_data = iris_data_one_hot_encoded.filter(input_columns)\n",
        "iris_train_label_data = iris_data_one_hot_encoded.filter(label_columns)\n"
      ],
      "execution_count": null,
      "outputs": []
    },
    {
      "cell_type": "markdown",
      "metadata": {
        "id": "WtunCig6x8_d"
      },
      "source": [
        "On définit les variables et placeholders que le modèle utilisera\n"
      ]
    },
    {
      "cell_type": "markdown",
      "metadata": {
        "id": "QXBNq2y7zv-C"
      },
      "source": [
        "- x est un placeholder pour les valeurs des attributs d'une fleur\n",
        "- W est la variable des poids\n",
        "- b est la variable du bies\n"
      ]
    },
    {
      "cell_type": "code",
      "metadata": {
        "id": "4RKeihiDyVnd"
      },
      "source": [
        "x = tf.placeholder(tf.float32,[None, 4])\n",
        "W = tf.Variable(tf.zeros([4, 3]))\n",
        "b = tf.Variable(tf.zeros([3]))"
      ],
      "execution_count": null,
      "outputs": []
    },
    {
      "cell_type": "markdown",
      "metadata": {
        "id": "5X7l2-xmytjY"
      },
      "source": [
        "- y représente les probabilités calculées par le modèle (one hot encoded)\n",
        "- y_ est le label réél (one hot encoded)"
      ]
    },
    {
      "cell_type": "code",
      "metadata": {
        "id": "NcLBXhJsy8gz"
      },
      "source": [
        "y = tf.nn.softmax(tf.matmul(x, W) + b)\n",
        "y_ = tf.placeholder(tf.float32, [None, 3])"
      ],
      "execution_count": null,
      "outputs": []
    },
    {
      "cell_type": "markdown",
      "metadata": {
        "id": "4PwsgQkV2f3r"
      },
      "source": [
        "Comme fonction de cout , on utilisera cross_entropy qui est égale à la moyenne totales des couts des echantillons.\n",
        "Le cout de chaque echantillion est égale à la somme des produits du log de la probabilité calculé et la valeur réelle du label pour chaque classe. \n"
      ]
    },
    {
      "cell_type": "code",
      "metadata": {
        "id": "A9Vq3cxF2oAh"
      },
      "source": [
        "cross_entropy = tf.reduce_mean(-tf.reduce_sum(y_ * tf.log(y), reduction_indices=[1]))\n"
      ],
      "execution_count": null,
      "outputs": []
    },
    {
      "cell_type": "markdown",
      "metadata": {
        "id": "vxosRb6g4DYO"
      },
      "source": [
        "Enfin , on définit notre optimiseur (Gradient decent optimizer)\n"
      ]
    },
    {
      "cell_type": "code",
      "metadata": {
        "id": "CBjP4Itq4RTt"
      },
      "source": [
        "train_step = tf.train.GradientDescentOptimizer(0.05).minimize(cross_entropy)"
      ],
      "execution_count": null,
      "outputs": []
    },
    {
      "cell_type": "markdown",
      "metadata": {
        "id": "UvNX3kqc4XhC"
      },
      "source": [
        "## **Entrainement du modèle**\n"
      ]
    },
    {
      "cell_type": "markdown",
      "metadata": {
        "id": "IanqV9Ka_6JL"
      },
      "source": [
        "Dans cette étape, le modèle est entrainé par l'execution de train_step pour num_epoch fois, en utilisant les données d'entrainement déja préparées."
      ]
    },
    {
      "cell_type": "code",
      "metadata": {
        "id": "mWkXraTb4b91"
      },
      "source": [
        "num_epoch = 650\n",
        "sess = tf.InteractiveSession()\n",
        "tf.global_variables_initializer().run()\n",
        "for _ in range(num_epoch):\n",
        "    sess.run(train_step, feed_dict={x: iris_train_input_data, y_: iris_train_label_data})"
      ],
      "execution_count": null,
      "outputs": []
    },
    {
      "cell_type": "markdown",
      "metadata": {
        "id": "qDFpWg6RAeq7"
      },
      "source": [
        "Cette fonction sert à determiner si une prédiction est égale à la valeur réélle du label\n"
      ]
    },
    {
      "cell_type": "code",
      "metadata": {
        "id": "M6x-0fHv4j_D"
      },
      "source": [
        "correct_prediction = tf.equal(tf.argmax(y, 1), tf.argmax(y_, 1))"
      ],
      "execution_count": null,
      "outputs": []
    },
    {
      "cell_type": "markdown",
      "metadata": {
        "id": "YDuNSwo-AqMj"
      },
      "source": [
        "La précision du modèle est calculée à partir des résultats de correct_prediction obtenus. "
      ]
    },
    {
      "cell_type": "code",
      "metadata": {
        "id": "bv6ePfTp5zSR"
      },
      "source": [
        "accuracy = tf.reduce_mean(tf.cast(correct_prediction, tf.float32))"
      ],
      "execution_count": null,
      "outputs": []
    },
    {
      "cell_type": "markdown",
      "metadata": {
        "id": "je4pnhJ165li"
      },
      "source": [
        "## **Tester le modèle**\n",
        "\n"
      ]
    },
    {
      "cell_type": "code",
      "metadata": {
        "colab": {
          "base_uri": "https://localhost:8080/"
        },
        "id": "N3AuP6Jo6Qbf",
        "outputId": "170b0e92-9e13-41f9-ba51-9f7580285d4b"
      },
      "source": [
        "test_dataset = pd.read_csv(\"https://storage.googleapis.com/download.tensorflow.org/data/iris_test.csv\")\n",
        "test_dataset.columns = column_names\n",
        "test_data_one_hot_encoded = pd.get_dummies(test_dataset,columns=[\"species\"])\n",
        "test_data_one_hot_encoded.columns = one_hot_columns\n",
        "test_input_data = test_data_one_hot_encoded.filter(input_columns)\n",
        "test_label_data = test_data_one_hot_encoded.filter(label_columns)\n",
        "\n",
        "print('La précision du modèle : ', sess.run(accuracy, feed_dict={x: test_input_data, y_: test_label_data}))"
      ],
      "execution_count": null,
      "outputs": [
        {
          "output_type": "stream",
          "text": [
            "La précision du modèle :  0.93333334\n"
          ],
          "name": "stdout"
        }
      ]
    }
  ]
}